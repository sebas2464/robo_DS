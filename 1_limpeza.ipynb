{
  "cells": [
    {
      "cell_type": "code",
      "execution_count": null,
      "metadata": {
        "colab": {
          "base_uri": "https://localhost:8080/"
        },
        "id": "SXTigFNKE9Xw",
        "outputId": "06034bc6-6a3b-4c4a-8330-f6f7e3845b20"
      },
      "outputs": [],
      "source": [
        "# from google.colab import drive\n",
        "import sys\n",
        "\n",
        "# drive.mount('/content/gdrive/')\n",
        "# path = '/content/gdrive/MyDrive/Processamento Dados Conti/código/código/'\n",
        "path='./'\n",
        "sys.path.append(path)"
      ]
    },
    {
      "cell_type": "markdown",
      "metadata": {
        "id": "U8fm_WiTE9Xx"
      },
      "source": [
        "## Cria, caso não exista, a pasta que armazenará os logs"
      ]
    },
    {
      "cell_type": "code",
      "execution_count": null,
      "metadata": {
        "id": "zmQHqiWpE9Xy"
      },
      "outputs": [],
      "source": [
        "import os\n",
        "import pandas as pd\n",
        "import numpy as np\n",
        "from preprocess.cleanup import filter_consumption, filter_odometer, filter_liter_supply, filter_km\n",
        "from preprocess.cleanup import filter_o2, filter_nox_avg, filter_nox_max, filter_nox_min, filter_nox_std\n",
        "from preprocess.cleanup import filter_nox_duplicates\n",
        "from preprocess.cleanup import filter_desligado, filter_coordinate_in_brazil\n",
        "\n",
        "if not os.path.exists(path+\"dados limpos/\"): os.makedirs(path+\"dados limpos/\")\n",
        "nox_exists = os.path.exists(path+\"dados/nox.csv\")\n",
        "abastecimento_exists = os.path.exists(path+\"dados/abastecimentos.csv\")\n",
        "\n",
        "if nox_exists and abastecimento_exists:\n",
        "    veiculos = pd.read_csv(path+'dados/informacoes_veiculos.csv', index_col=[0])\n",
        "    abastecimento = pd.read_csv(path+'dados/abastecimentos.csv', index_col=[0])"
      ]
    },
    {
      "cell_type": "markdown",
      "metadata": {
        "id": "zXJlqmHwE9Xy"
      },
      "source": [
        "## Código de limpeza\n",
        "- Aplica todas as regras e vai filtrando o Dataframe\n",
        "- Versões posteriores salvarão o que passar por cada regra específica\n",
        "### Abastecimento"
      ]
    },
    {
      "cell_type": "code",
      "execution_count": null,
      "metadata": {
        "colab": {
          "base_uri": "https://localhost:8080/",
          "height": 562
        },
        "id": "aSMsk2SWE9Xz",
        "outputId": "14be1ed8-3132-4a61-d4df-fc243d4984a0"
      },
      "outputs": [],
      "source": [
        "\n",
        "import matplotlib.pyplot as plt\n",
        "old_size = len(abastecimento)\n",
        "abastecimento = filter_km(abastecimento, arg_return=0)\n",
        "print(len(abastecimento))\n",
        "abastecimento = filter_consumption(abastecimento, arg_return=0)\n",
        "print(len(abastecimento))\n",
        "# abastecimento = filter_liter_supply(abastecimento, veiculos, arg_return=0)\n",
        "# print(len(abastecimento))\n",
        "abastecimento = filter_odometer(abastecimento, arg_return=0)\n",
        "print(len(abastecimento))\n",
        "abastecimento.to_csv(path+'dados limpos/abastecimentos.csv')\n",
        "new_size = len(abastecimento)\n",
        "\n",
        "labels = 'Sem Problemas', 'Limpo'\n",
        "sizes = [new_size, old_size-new_size]\n",
        "fig, ax = plt.subplots()\n",
        "ax.pie(sizes, labels=labels, autopct='%1.1f%%')"
      ]
    },
    {
      "cell_type": "markdown",
      "metadata": {
        "id": "dXc_NwRKE9Xz"
      },
      "source": [
        "### NOx"
      ]
    },
    {
      "cell_type": "code",
      "execution_count": null,
      "metadata": {
        "colab": {
          "base_uri": "https://localhost:8080/",
          "height": 666
        },
        "id": "oKb020faE9Xz",
        "outputId": "240d45e8-4519-40df-fd9a-1c62783af481"
      },
      "outputs": [],
      "source": [
        "\n",
        "nox = pd.read_csv(path+'dados/nox.csv', index_col=[0])\n",
        "old_size = len(nox)\n",
        "nox = filter_o2(nox, arg_return=0)\n",
        "print(len(nox))\n",
        "nox = filter_nox_avg(nox, arg_return=0)\n",
        "print(len(nox))\n",
        "nox = filter_nox_max(nox, arg_return=0)\n",
        "print(len(nox))\n",
        "nox = filter_nox_min(nox, arg_return=0)\n",
        "print(len(nox))\n",
        "nox = filter_nox_std(nox, arg_return=0)\n",
        "print(len(nox))\n",
        "nox = filter_nox_duplicates(nox, arg_return=0)\n",
        "print(len(nox))\n",
        "# nox = filter_coordinate_duplicates(nox, arg_return=0)\n",
        "print(len(nox))\n",
        "nox = filter_desligado(nox, arg_return=0)\n",
        "print(len(nox))\n",
        "nox = filter_coordinate_in_brazil(nox, arg_return=0)\n",
        "print(len(nox))\n",
        "nox.to_csv(path+'dados limpos/nox.csv')\n",
        "new_size = len(nox)\n",
        "\n",
        "import matplotlib.pyplot as plt\n",
        "labels = 'Sem Problemas', 'Limpo'\n",
        "sizes = [new_size, old_size-new_size]\n",
        "fig, ax = plt.subplots()\n",
        "ax.pie(sizes, labels=labels, autopct='%1.1f%%')"
      ]
    },
    {
      "cell_type": "markdown",
      "metadata": {
        "id": "j95tM6RKE9X0"
      },
      "source": [
        "## Código de limpeza complementar\n",
        "- Célula que salva dados que se encaixam nas regras\n",
        "### Abastecimento\n",
        "\n",
        "Primeiramente precisamos adicionar uma cópia sem mudanças ao procedimento"
      ]
    },
    {
      "cell_type": "code",
      "execution_count": null,
      "metadata": {
        "id": "wfjxwd8HE9X0"
      },
      "outputs": [],
      "source": [
        "def full_csv(select = 'abastecimento'):\n",
        "    nox_exists = os.path.exists(path+\"dados/nox.csv\")\n",
        "    abastecimento_exists = os.path.exists(path+\"dados/abastecimentos.csv\")\n",
        "    if select == 'nox' and nox_exists:\n",
        "        return pd.read_csv(path+'dados/nox.csv')\n",
        "    elif select == 'abastecimento' and abastecimento_exists:\n",
        "        return pd.read_csv(path+'dados/abastecimentos.csv')"
      ]
    },
    {
      "cell_type": "markdown",
      "metadata": {
        "id": "kE-Gab6_E9X0"
      },
      "source": [
        "Agora, aplicamos as regras de limpeza à locais diferentes"
      ]
    },
    {
      "cell_type": "code",
      "execution_count": null,
      "metadata": {
        "id": "byLWST6QE9X0"
      },
      "outputs": [],
      "source": [
        "\n",
        "if not os.path.exists(path+'dados limpos/invalidos/'): os.makedirs(path+'dados limpos/invalidos/')\n",
        "filter_km(full_csv('abastecimento'), arg_return=1).to_csv(path+\"dados limpos/invalidos/invalid_km.csv\", index=False)\n",
        "filter_odometer(full_csv('abastecimento'), arg_return=1).to_csv(path+\"dados limpos/invalidos/inverted_odometer.csv\", index=False)\n",
        "filter_consumption(full_csv('abastecimento'), arg_return=1).to_csv(path+\"dados limpos/invalidos/invalid_consumption.csv\", index=False)\n",
        "# filter_liter_supply(full_csv('abastecimento'), veiculos, arg_return=1).to_csv(path+\"dados limpos/invalidos/invalid_tank.csv\", index=False)"
      ]
    },
    {
      "cell_type": "markdown",
      "metadata": {
        "id": "lKDq3RhoE9X0"
      },
      "source": [
        "E o mesmo se aplica ao NOx\n",
        "\n",
        "### NOx"
      ]
    },
    {
      "cell_type": "code",
      "execution_count": null,
      "metadata": {
        "id": "zTHPsC_9E9X0"
      },
      "outputs": [],
      "source": [
        "filter_o2(full_csv('nox'), arg_return=1).to_csv(path+\"dados limpos/invalidos/invalid_o2.csv\", index=False)\n",
        "filter_nox_avg(full_csv('nox'), arg_return=1).to_csv(path+\"dados limpos/invalidos/invalid_nox.csv\", index=False)\n",
        "filter_desligado(full_csv('nox'), arg_return=1).to_csv(path+\"dados limpos/invalidos/vehicle_off.csv\", index=False)\n",
        "filter_nox_max(full_csv('nox'), arg_return=1).to_csv(path+\"dados limpos/invalidos/invalid_nox_max.csv\", index=False)\n",
        "filter_nox_min(full_csv('nox'), arg_return=1).to_csv(path+\"dados limpos/invalidos/invalid_nox_min.csv\", index=False)\n",
        "filter_nox_std(full_csv('nox'), arg_return=1).to_csv(path+\"dados limpos/invalidos/invalid_nox_std.csv\", index=False)\n",
        "filter_nox_duplicates(full_csv('nox'), arg_return=1).to_csv(path+\"dados limpos/invalidos/nox_duplicates.csv\", index=False)\n",
        "filter_coordinate_in_brazil(full_csv('nox'), arg_return=1).to_csv(path+\"dados limpos/invalidos/outside_brazil.csv\", index=False)\n",
        "# filter_coordinate_duplicates(full_csv('nox'), arg_return=1).to_csv(path+\"dados limpos/invalidos/coordinate_duplicate.csv\", index=False)"
      ]
    }
  ],
  "metadata": {
    "colab": {
      "provenance": []
    },
    "kernelspec": {
      "display_name": "base",
      "language": "python",
      "name": "python3"
    },
    "language_info": {
      "codemirror_mode": {
        "name": "ipython",
        "version": 3
      },
      "file_extension": ".py",
      "mimetype": "text/x-python",
      "name": "python",
      "nbconvert_exporter": "python",
      "pygments_lexer": "ipython3",
      "version": "3.9.13"
    },
    "orig_nbformat": 4,
    "vscode": {
      "interpreter": {
        "hash": "7a4880536bc750f262d1b458e4fd4d611315d3098d58b77bd9c89b3237b9ab47"
      }
    }
  },
  "nbformat": 4,
  "nbformat_minor": 0
}
