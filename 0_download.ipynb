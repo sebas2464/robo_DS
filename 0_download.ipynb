{
 "cells": [
  {
   "cell_type": "code",
   "execution_count": null,
   "metadata": {},
   "outputs": [],
   "source": [
    "# from google.colab import drive\n",
    "import sys\n",
    "# drive.mount(\"/content/gdrive/\")\n",
    "# path = \"/content/gdrive/MyDrive/Processamento Dados WW/código/código/\"\n",
    "path = './'\n",
    "sys.path.append(path)"
   ]
  },
  {
   "cell_type": "code",
   "execution_count": null,
   "metadata": {},
   "outputs": [],
   "source": [
    "\n",
    "import time\n",
    "import datetime\n",
    "start = \"06/09/2024\"\n",
    "finish = \"13/09/2024\"\n",
    "start = time.mktime(datetime.datetime.strptime(start, \"%d/%m/%Y\").timetuple())*1000\n",
    "finish = time.mktime(datetime.datetime.strptime(finish, \"%d/%m/%Y\").timetuple())*1000"
   ]
  },
  {
   "cell_type": "markdown",
   "metadata": {},
   "source": [
    "### Registra um token de autorização"
   ]
  },
  {
   "cell_type": "code",
   "execution_count": null,
   "metadata": {},
   "outputs": [],
   "source": [
    "from api.alis import nox, fuel, vehicles\n",
    "from api.auth import save_token\n",
    "import os\n",
    "\n",
    "token = save_token(\"token\")\n",
    "\n",
    "with open(\"token\") as file:\n",
    "    token = file.read()"
   ]
  },
  {
   "cell_type": "markdown",
   "metadata": {},
   "source": [
    "### Verifica o cache"
   ]
  },
  {
   "cell_type": "code",
   "execution_count": null,
   "metadata": {},
   "outputs": [],
   "source": [
    "folder_exists = os.path.exists(path+\"dados/\")\n",
    "if not folder_exists: \n",
    "    os.makedirs(path+\"dados/\")"
   ]
  },
  {
   "attachments": {},
   "cell_type": "markdown",
   "metadata": {},
   "source": [
    "### Baixa os dados"
   ]
  },
  {
   "cell_type": "code",
   "execution_count": null,
   "metadata": {},
   "outputs": [],
   "source": [
    "vehicles(token, path+\"dados/informacoes_veiculos.csv\") \n",
    "# nox(token, path+\"dados/nox.csv\") \n",
    "# fuel(token, path+\"dados/abastecimentos.csv\")\n",
    "nox(token, path+\"dados/nox.csv\", start=start, finish=finish) \n",
    "fuel(token, path+\"dados/abastecimentos.csv\", start=start, finish=finish)"
   ]
  }
 ],
 "metadata": {
  "kernelspec": {
   "display_name": "base",
   "language": "python",
   "name": "python3"
  },
  "language_info": {
   "codemirror_mode": {
    "name": "ipython",
    "version": 3
   },
   "file_extension": ".py",
   "mimetype": "text/x-python",
   "name": "python",
   "nbconvert_exporter": "python",
   "pygments_lexer": "ipython3",
   "version": "3.9.13"
  },
  "orig_nbformat": 4,
  "vscode": {
   "interpreter": {
    "hash": "7a4880536bc750f262d1b458e4fd4d611315d3098d58b77bd9c89b3237b9ab47"
   }
  }
 },
 "nbformat": 4,
 "nbformat_minor": 2
}
