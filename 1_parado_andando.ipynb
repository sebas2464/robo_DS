{
 "cells": [
  {
   "cell_type": "code",
   "execution_count": null,
   "metadata": {},
   "outputs": [],
   "source": [
    "# from google.colab import drive\n",
    "import sys\n",
    "\n",
    "# drive.mount('/content/gdrive/')\n",
    "# path = '/content/gdrive/MyDrive/Processamento Dados Conti/código/código/'\n",
    "path='./'\n",
    "sys.path.append(path)"
   ]
  },
  {
   "attachments": {},
   "cell_type": "markdown",
   "metadata": {},
   "source": [
    "\n",
    "## Código Parado / Andando\n",
    "- Ele é aplicado ao dado sujo por ser invariante aos minutos anteriores ou seguintes\n",
    "- Versões posteriores poderiam salvar um sumário do quanto ficou parado / andou"
   ]
  },
  {
   "cell_type": "code",
   "execution_count": null,
   "metadata": {},
   "outputs": [],
   "source": [
    "import os\n",
    "import pandas as pd\n",
    "from preprocess.movement import stopped_df\n",
    "\n",
    "if not os.path.exists(\"parado/\"): os.makedirs(\"parado/\")\n",
    "if os.path.exists(path+\"dados/nox.csv\"):\n",
    "    df = pd.read_csv(path+\"dados/nox.csv\", index_col=[0])\n",
    "    df = stopped_df(df)\n",
    "    df.to_csv(path+\"parado/nox.csv\")\n",
    "df"
   ]
  }
 ],
 "metadata": {
  "kernelspec": {
   "display_name": "base",
   "language": "python",
   "name": "python3"
  },
  "language_info": {
   "codemirror_mode": {
    "name": "ipython",
    "version": 3
   },
   "file_extension": ".py",
   "mimetype": "text/x-python",
   "name": "python",
   "nbconvert_exporter": "python",
   "pygments_lexer": "ipython3",
   "version": "3.9.13"
  },
  "orig_nbformat": 4,
  "vscode": {
   "interpreter": {
    "hash": "7a4880536bc750f262d1b458e4fd4d611315d3098d58b77bd9c89b3237b9ab47"
   }
  }
 },
 "nbformat": 4,
 "nbformat_minor": 2
}
