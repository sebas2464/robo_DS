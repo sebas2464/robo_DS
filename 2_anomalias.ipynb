{
 "cells": [
  {
   "cell_type": "code",
   "execution_count": null,
   "metadata": {},
   "outputs": [],
   "source": [
    "# from google.colab import drive\n",
    "import sys\n",
    "\n",
    "# drive.mount('/content/gdrive/')\n",
    "# path = '/content/gdrive/MyDrive/Processamento Dados Conti/código/código/'\n",
    "path='./'\n",
    "sys.path.append(path)"
   ]
  },
  {
   "attachments": {},
   "cell_type": "markdown",
   "metadata": {},
   "source": [
    "### Verifica se pasta que armazena os logs existe + arquivos necessários"
   ]
  },
  {
   "cell_type": "code",
   "execution_count": null,
   "metadata": {},
   "outputs": [],
   "source": [
    "import os\n",
    "import pandas as pd\n",
    "from preprocess.ensemble import VoteEnsemble\n",
    "\n",
    "if not os.path.exists(path+\"dados limpos/\"): os.makedirs(path+\"dados limpos/\")\n",
    "nox_exists = os.path.exists(path+\"dados limpos/nox.csv\")\n",
    "abastecimento_exists = os.path.exists(path+\"dados limpos/abastecimentos.csv\")\n",
    "\n",
    "if nox_exists and abastecimento_exists:\n",
    "    nox = pd.read_csv(path+\"dados limpos/nox.csv\", index_col=[0])\n",
    "    veiculos = pd.read_csv(path+\"dados/informacoes_veiculos.csv\", index_col=[0])\n",
    "    abastecimento = pd.read_csv(path+\"dados limpos/abastecimentos.csv\", index_col=[0])"
   ]
  },
  {
   "attachments": {},
   "cell_type": "markdown",
   "metadata": {},
   "source": [
    "## Código de Detecção de Anomalias\n",
    "- Aplica o modulo de detecção de anomalias\n",
    "- Isso é caracterizado pela distribuição dos dados, então só pode ocorrer após a limpeza\n",
    "\n"
   ]
  },
  {
   "cell_type": "code",
   "execution_count": null,
   "metadata": {},
   "outputs": [],
   "source": [
    "if not os.path.exists(path+\"anomalias/\"): os.makedirs(path+\"anomalias/\")\n",
    "nox_exists = os.path.exists(path+\"dados limpos/nox.csv\")\n",
    "abastecimento_exists = os.path.exists(path+\"dados limpos/abastecimentos.csv\")\n",
    "\n",
    "if nox_exists and abastecimento_exists:\n",
    "    clf = VoteEnsemble()\n",
    "    abastecimento[\"anomaly_km_driven\"] = clf.fit_predict(abastecimento[\"km_driven\"])\n",
    "    abastecimento[\"anomaly_consumption\"] = clf.fit_predict(abastecimento[\"consumption\"])\n",
    "    abastecimento[\"anomaly_liter_supply\"] = clf.fit_predict(abastecimento[\"liter_supply\"])\n",
    "    abastecimento = abastecimento.replace({True: 1, False: 0})\n",
    "    abastecimento.to_csv(path+\"anomalias/abastecimentos.csv\")\n",
    "abastecimento\n"
   ]
  },
  {
   "cell_type": "code",
   "execution_count": null,
   "metadata": {},
   "outputs": [],
   "source": [
    "\n",
    "if not os.path.exists(path+\"anomalias/\"): os.makedirs(path+\"anomalias/\")\n",
    "nox_exists = os.path.exists(path+\"dados limpos/nox.csv\")\n",
    "\n",
    "if nox_exists and abastecimento_exists:\n",
    "    clf = VoteEnsemble()\n",
    "    nox[\"anomaly_nox\"] = clf.fit_predict(nox[\"NOx\"])\n",
    "    nox[\"anomaly_o2\"] = clf.fit_predict(nox[\"O2\"])\n",
    "    nox = nox.replace({True: 1, False: 0})\n",
    "    nox.to_csv(path+\"anomalias/nox.csv\")\n",
    "nox\n"
   ]
  }
 ],
 "metadata": {
  "kernelspec": {
   "display_name": "base",
   "language": "python",
   "name": "python3"
  },
  "language_info": {
   "codemirror_mode": {
    "name": "ipython",
    "version": 3
   },
   "file_extension": ".py",
   "mimetype": "text/x-python",
   "name": "python",
   "nbconvert_exporter": "python",
   "pygments_lexer": "ipython3",
   "version": "3.9.13"
  },
  "orig_nbformat": 4,
  "vscode": {
   "interpreter": {
    "hash": "7a4880536bc750f262d1b458e4fd4d611315d3098d58b77bd9c89b3237b9ab47"
   }
  }
 },
 "nbformat": 4,
 "nbformat_minor": 2
}
